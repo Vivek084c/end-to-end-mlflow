{
 "cells": [
  {
   "cell_type": "code",
   "execution_count": 2,
   "metadata": {},
   "outputs": [],
   "source": [
    "d = {\"key\":\"value\", \"key1\":\"value1\"}"
   ]
  },
  {
   "cell_type": "code",
   "execution_count": 3,
   "metadata": {},
   "outputs": [
    {
     "data": {
      "text/plain": [
       "'value'"
      ]
     },
     "execution_count": 3,
     "metadata": {},
     "output_type": "execute_result"
    }
   ],
   "source": [
    "d[\"key\"]"
   ]
  },
  {
   "cell_type": "code",
   "execution_count": 4,
   "metadata": {},
   "outputs": [
    {
     "ename": "AttributeError",
     "evalue": "'dict' object has no attribute 'key'",
     "output_type": "error",
     "traceback": [
      "\u001b[0;31m---------------------------------------------------------------------------\u001b[0m",
      "\u001b[0;31mAttributeError\u001b[0m                            Traceback (most recent call last)",
      "Cell \u001b[0;32mIn[4], line 1\u001b[0m\n\u001b[0;32m----> 1\u001b[0m \u001b[43md\u001b[49m\u001b[38;5;241;43m.\u001b[39;49m\u001b[43mkey\u001b[49m\n",
      "\u001b[0;31mAttributeError\u001b[0m: 'dict' object has no attribute 'key'"
     ]
    }
   ],
   "source": [
    "d.key"
   ]
  },
  {
   "cell_type": "code",
   "execution_count": 5,
   "metadata": {},
   "outputs": [],
   "source": [
    "from box import ConfigBox"
   ]
  },
  {
   "cell_type": "code",
   "execution_count": 6,
   "metadata": {},
   "outputs": [],
   "source": [
    "d2 = {\"key\":\"value\", \"key1\":\"value1\"}"
   ]
  },
  {
   "cell_type": "code",
   "execution_count": 7,
   "metadata": {},
   "outputs": [],
   "source": [
    "d2 = ConfigBox(d2)"
   ]
  },
  {
   "cell_type": "code",
   "execution_count": 8,
   "metadata": {},
   "outputs": [
    {
     "data": {
      "text/plain": [
       "ConfigBox({'key': 'value', 'key1': 'value1'})"
      ]
     },
     "execution_count": 8,
     "metadata": {},
     "output_type": "execute_result"
    }
   ],
   "source": [
    "d2"
   ]
  },
  {
   "cell_type": "code",
   "execution_count": 12,
   "metadata": {},
   "outputs": [
    {
     "data": {
      "text/plain": [
       "'value1'"
      ]
     },
     "execution_count": 12,
     "metadata": {},
     "output_type": "execute_result"
    }
   ],
   "source": [
    "d2.key1"
   ]
  },
  {
   "cell_type": "code",
   "execution_count": 2,
   "metadata": {},
   "outputs": [],
   "source": [
    "import gdown"
   ]
  },
  {
   "cell_type": "code",
   "execution_count": 18,
   "metadata": {},
   "outputs": [],
   "source": [
    "url = \"https://drive.google.com/file/d/1oQMy_TQe8zp6g_cH7P8VyfFA8PnfG5IO/view?usp=sharing\"\n",
    "d = \"https://drive.usercontent.google.com/download?id=1oQMy_TQe8zp6g_cH7P8VyfFA8PnfG5IO&export=download&authuser=1&confirm=t&uuid=3ef0e6cc-c1df-406a-93e2-b3a98266b029&at=AO7h07ezIYkKn3h2yJlkmR0oCxUh:1726905582679\""
   ]
  },
  {
   "cell_type": "code",
   "execution_count": 12,
   "metadata": {},
   "outputs": [
    {
     "data": {
      "text/plain": [
       "'1oQMy_TQe8zp6g_cH7P8VyfFA8PnfG5IO'"
      ]
     },
     "execution_count": 12,
     "metadata": {},
     "output_type": "execute_result"
    }
   ],
   "source": [
    "file_id = (str(url.split(\"/\")[-2]))\n",
    "file_id\n",
    "# prefix = https://drive.usercontent.google.com/download?id=1oQMy_TQe8zp6g_cH7P8VyfFA8PnfG5IO&export=download&authuser=1&confirm=t&uuid=7d65d4fa-7aa9-4c45-9352-8307a3ded951&at=AO7h07e17pFdg4vG5GaJsNMu0uA_:1726905343366"
   ]
  },
  {
   "cell_type": "code",
   "execution_count": 15,
   "metadata": {},
   "outputs": [],
   "source": [
    "prefix = \"https://drive.usercontent.google.com/download?id=1oQMy_TQe8zp6g_cH7P8VyfFA8PnfG5IO&export=download&authuser=1&confirm=t&uuid=7d65d4fa-7aa9-4c45-9352-8307a3ded951&at=AO7h07e17pFdg4vG5GaJsNMu0uA_:1726905343366\""
   ]
  },
  {
   "cell_type": "code",
   "execution_count": 19,
   "metadata": {},
   "outputs": [
    {
     "name": "stderr",
     "output_type": "stream",
     "text": [
      "Downloading...\n",
      "From: https://drive.usercontent.google.com/download?id=1oQMy_TQe8zp6g_cH7P8VyfFA8PnfG5IO&export=download&authuser=1&confirm=t&uuid=3ef0e6cc-c1df-406a-93e2-b3a98266b029&at=AO7h07ezIYkKn3h2yJlkmR0oCxUh:1726905582679\n",
      "To: /Users/vivek/work/GIT/end-to-end-mlflow/research/Chest_ct_scan.zip\n",
      "100%|██████████| 21.0/21.0 [00:00<00:00, 49.1kB/s]\n"
     ]
    },
    {
     "data": {
      "text/plain": [
       "'Chest_ct_scan.zip'"
      ]
     },
     "execution_count": 19,
     "metadata": {},
     "output_type": "execute_result"
    }
   ],
   "source": [
    "gdown.download(d,\"Chest_ct_scan.zip\" )"
   ]
  },
  {
   "cell_type": "code",
   "execution_count": null,
   "metadata": {},
   "outputs": [],
   "source": []
  }
 ],
 "metadata": {
  "kernelspec": {
   "display_name": "mlops",
   "language": "python",
   "name": "python3"
  },
  "language_info": {
   "codemirror_mode": {
    "name": "ipython",
    "version": 3
   },
   "file_extension": ".py",
   "mimetype": "text/x-python",
   "name": "python",
   "nbconvert_exporter": "python",
   "pygments_lexer": "ipython3",
   "version": "3.10.14"
  }
 },
 "nbformat": 4,
 "nbformat_minor": 2
}
